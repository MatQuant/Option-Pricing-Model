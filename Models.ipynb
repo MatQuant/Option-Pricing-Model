{
 "cells": [
  {
   "cell_type": "code",
   "execution_count": 5,
   "metadata": {},
   "outputs": [],
   "source": [
    "#imports\n",
    "import numpy as np\n",
    "import requests\n",
    "import scipy.stats as st"
   ]
  },
  {
   "cell_type": "markdown",
   "metadata": {},
   "source": [
    "# Option pricing model"
   ]
  },
  {
   "cell_type": "code",
   "execution_count": 6,
   "metadata": {},
   "outputs": [],
   "source": [
    "# request the sofr rate\n",
    "response = requests.get(\"https://markets.newyorkfed.org/api/rates/secured/sofr/last/1.json\",)\n",
    "\n",
    "# risk free rate\n",
    "r = response.json()[\"refRates\"][0][\"percentRate\"]/100"
   ]
  },
  {
   "cell_type": "code",
   "execution_count": 7,
   "metadata": {},
   "outputs": [],
   "source": [
    "def blackScholes(uPrice, xPrice, sig, time, rate = r, type = \"call\"):\n",
    "    d1 = (np.log(uPrice/xPrice) + (rate + (sig**2)/2) * time) / (sig*np.sqrt(time))\n",
    "    d2 = d1 - sig*np.sqrt(time)\n",
    "    try:\n",
    "        if type == \"call\":\n",
    "            price = uPrice*st.norm.cdf(d1) - xPrice*np.exp(-rate*time)*st.norm.cdf(d2)\n",
    "        elif type == \"put\":\n",
    "            price = xPrice*np.exp(-rate*time)*st.norm.cdf(-d2) - uPrice*st.norm.cdf(-d1)\n",
    "        return price\n",
    "    except:\n",
    "        print(\"type can be either 'call' or 'put'\")\n"
   ]
  },
  {
   "cell_type": "code",
   "execution_count": 8,
   "metadata": {},
   "outputs": [
    {
     "data": {
      "text/plain": [
       "0.32179267796239275"
      ]
     },
     "execution_count": 8,
     "metadata": {},
     "output_type": "execute_result"
    }
   ],
   "source": [
    "blackScholes(15, 21, 0.36, 213/365)"
   ]
  }
 ],
 "metadata": {
  "kernelspec": {
   "display_name": ".venv",
   "language": "python",
   "name": "python3"
  },
  "language_info": {
   "codemirror_mode": {
    "name": "ipython",
    "version": 3
   },
   "file_extension": ".py",
   "mimetype": "text/x-python",
   "name": "python",
   "nbconvert_exporter": "python",
   "pygments_lexer": "ipython3",
   "version": "3.10.12"
  }
 },
 "nbformat": 4,
 "nbformat_minor": 2
}
