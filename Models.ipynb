{
 "cells": [
  {
   "cell_type": "code",
   "execution_count": 1,
   "metadata": {},
   "outputs": [],
   "source": [
    "#imports\n",
    "import numpy as np\n",
    "import requests\n",
    "import scipy.stats as st"
   ]
  },
  {
   "cell_type": "markdown",
   "metadata": {},
   "source": [
    "# Option pricing model"
   ]
  },
  {
   "cell_type": "code",
   "execution_count": 2,
   "metadata": {},
   "outputs": [],
   "source": [
    "# request the sofr rate\n",
    "response = requests.get(\"https://markets.newyorkfed.org/api/rates/secured/sofr/last/1.json\",)\n",
    "\n",
    "# risk free rate\n",
    "r = response.json()[\"refRates\"][0][\"percentRate\"]/100"
   ]
  },
  {
   "cell_type": "code",
   "execution_count": 3,
   "metadata": {},
   "outputs": [],
   "source": [
    "def blackScholes(sPrice, xPrice, sig, time, rate = r, type = \"call\"):\n",
    "    d1 = (np.log(sPrice/xPrice) + (rate + (sig**2)/2) * time) / (sig*np.sqrt(time))\n",
    "    d2 = d1 - sig*np.sqrt(time)\n",
    "    try:\n",
    "        if type == \"call\":\n",
    "            price = sPrice*st.norm.cdf(d1) - xPrice*np.exp(-rate*time)*st.norm.cdf(d2)\n",
    "            delta = st.norm.cdf(d1) # Measures impact of a change in the price of underlying\n",
    "            theta = -(sPrice * st.norm.pdf(d1) * sig) / (2 * np.sqrt(time)) - rate * xPrice * np.exp(-rate * time) * st.norm.cdf(d2) # Measures impact of a change in time remaining      \n",
    "        elif type == \"put\":\n",
    "            price = xPrice*np.exp(-rate*time)*st.norm.cdf(-d2) - sPrice*st.norm.cdf(-d1)\n",
    "            delta = -st.norm.cdf(-d1)\n",
    "            theta = -(sPrice*st.norm.pdf(d1)*sig) / (2*np.sqrt(time)) + rate * xPrice * np.exp(-rate*time) * st.norm.cdf(-d2)\n",
    "        gamma = st.norm.pdf(d1) / (sPrice*sig*np.sqrt(time)) # Measures the rate of change of delta\n",
    "        vega = sPrice * np.sqrt(time) * st.norm.pdf(d1)\n",
    "        return price, delta, gamma, theta/365, vega/100\n",
    "    except:\n",
    "        print(\"type can be either 'call' or 'put'\")\n"
   ]
  },
  {
   "cell_type": "code",
   "execution_count": 4,
   "metadata": {},
   "outputs": [
    {
     "data": {
      "text/plain": [
       "(0.3046236019281898,\n",
       " 0.15838560833942017,\n",
       " 0.05859238680495298,\n",
       " -0.0025674614261444904,\n",
       " 0.027695738343722024)"
      ]
     },
     "execution_count": 4,
     "metadata": {},
     "output_type": "execute_result"
    }
   ],
   "source": [
    "blackScholes(15, 21, 0.36, 213/365, rate = 0.04)"
   ]
  }
 ],
 "metadata": {
  "kernelspec": {
   "display_name": ".venv",
   "language": "python",
   "name": "python3"
  },
  "language_info": {
   "codemirror_mode": {
    "name": "ipython",
    "version": 3
   },
   "file_extension": ".py",
   "mimetype": "text/x-python",
   "name": "python",
   "nbconvert_exporter": "python",
   "pygments_lexer": "ipython3",
   "version": "3.10.12"
  }
 },
 "nbformat": 4,
 "nbformat_minor": 2
}
